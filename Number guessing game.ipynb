{
 "cells": [
  {
   "cell_type": "code",
   "execution_count": null,
   "id": "793d6ae6",
   "metadata": {},
   "outputs": [],
   "source": [
    "h=7\n",
    "a=int(input(\"input your number: \"))\n",
    "c=1\n",
    "for num in range(300):\n",
    "    if a==h:\n",
    "        print(f\"you are winner an try to make {c}\")\n",
    "        break\n",
    "    else:\n",
    "        if a>h:\n",
    "            print(\"too high\")\n",
    "            a = int(input(\"input your number: \"))\n",
    "            c+=1\n",
    "        else:\n",
    "            print(\"too low\")\n",
    "            a = int(input(\"input your number: \"))\n",
    "            c+=1"
   ]
  }
 ],
 "metadata": {
  "kernelspec": {
   "display_name": "Python 3 (ipykernel)",
   "language": "python",
   "name": "python3"
  },
  "language_info": {
   "codemirror_mode": {
    "name": "ipython",
    "version": 3
   },
   "file_extension": ".py",
   "mimetype": "text/x-python",
   "name": "python",
   "nbconvert_exporter": "python",
   "pygments_lexer": "ipython3",
   "version": "3.9.7"
  }
 },
 "nbformat": 4,
 "nbformat_minor": 5
}
