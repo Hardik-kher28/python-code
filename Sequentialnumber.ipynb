{
 "cells": [
  {
   "cell_type": "code",
   "execution_count": 79,
   "id": "2cf44bd2",
   "metadata": {},
   "outputs": [
    {
     "name": "stdout",
     "output_type": "stream",
     "text": [
      "true\n"
     ]
    }
   ],
   "source": [
    "def isValidSubsequence(array, sequence):\n",
    "    c=[]\n",
    "    for var in sequence:\n",
    "        for var2 in array:\n",
    "                if var2 == var-1:\n",
    "                    c.append('yes')\n",
    "                else:\n",
    "                    c.append('no')\n",
    "                    \n",
    "    if 'yes' in c:\n",
    "        print('true')\n",
    "    else:\n",
    "        print('flase')    \n",
    "\n",
    "isValidSubsequence([5,1,22,25,6,-1,8,10],[1,6,10])   "
   ]
  },
  {
   "cell_type": "code",
   "execution_count": null,
   "id": "59840d53",
   "metadata": {},
   "outputs": [],
   "source": []
  }
 ],
 "metadata": {
  "kernelspec": {
   "display_name": "Python 3 (ipykernel)",
   "language": "python",
   "name": "python3"
  },
  "language_info": {
   "codemirror_mode": {
    "name": "ipython",
    "version": 3
   },
   "file_extension": ".py",
   "mimetype": "text/x-python",
   "name": "python",
   "nbconvert_exporter": "python",
   "pygments_lexer": "ipython3",
   "version": "3.9.7"
  }
 },
 "nbformat": 4,
 "nbformat_minor": 5
}
